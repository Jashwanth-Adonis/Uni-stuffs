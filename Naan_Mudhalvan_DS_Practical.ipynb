{
 "cells": [
  {
   "cell_type": "markdown",
   "id": "3d0dc2af",
   "metadata": {},
   "source": [
    "# **Naan Mudhalvan - Data Science Practical (Session 3)**\n",
    "This notebook contains the Python code for the Day 1 practical session on Python, NumPy, and Pandas for Data Science."
   ]
  },
  {
   "cell_type": "code",
   "execution_count": null,
   "id": "ed87dfc8",
   "metadata": {},
   "outputs": [],
   "source": [
    "print(\"Hello, Excited to start Data Science.\")"
   ]
  },
  {
   "cell_type": "code",
   "execution_count": null,
   "id": "7fdc2b54",
   "metadata": {},
   "outputs": [],
   "source": [
    "# Storing customer data\n",
    "customer_name = \"John Doe\"\n",
    "customer_age = 28\n",
    "customer_balance = 120.75\n",
    "\n",
    "print(\"Customer:\", customer_name)\n",
    "print(\"Age:\", customer_age)\n",
    "print(\"Balance:\", customer_balance)"
   ]
  },
  {
   "cell_type": "code",
   "execution_count": null,
   "id": "415e30dc",
   "metadata": {},
   "outputs": [],
   "source": [
    "# Applying discount\n",
    "product_price = 200\n",
    "discount = product_price * 0.10\n",
    "final_price = product_price - discount\n",
    "\n",
    "print(\"Final Price after Discount:\", final_price)"
   ]
  },
  {
   "cell_type": "code",
   "execution_count": null,
   "id": "e0b60b3c",
   "metadata": {},
   "outputs": [],
   "source": [
    "import numpy as np\n",
    "\n",
    "# Sales data\n",
    "sales = np.array([150, 200, 250, 300, 400, 350, 500])\n",
    "print(\"Sales Data:\", sales)"
   ]
  },
  {
   "cell_type": "code",
   "execution_count": null,
   "id": "333be2a4",
   "metadata": {},
   "outputs": [],
   "source": [
    "# Sales statistics\n",
    "print(\"Average Sales:\", np.mean(sales))\n",
    "print(\"Highest Sale:\", np.max(sales))\n",
    "print(\"Lowest Sale:\", np.min(sales))"
   ]
  },
  {
   "cell_type": "code",
   "execution_count": null,
   "id": "df7b641a",
   "metadata": {},
   "outputs": [],
   "source": [
    "import pandas as pd\n",
    "\n",
    "# Creating a DataFrame\n",
    "data = {\"Customer\": [\"Alice\", \"Bob\", \"Charlie\"],\n",
    "        \"Age\": [25, 30, 35],\n",
    "        \"Amount Spent\": [120, 200, 150]}\n",
    "\n",
    "df = pd.DataFrame(data)\n",
    "print(df)"
   ]
  },
  {
   "cell_type": "code",
   "execution_count": null,
   "id": "7e90d7db",
   "metadata": {},
   "outputs": [],
   "source": [
    "# Load and view a CSV file\n",
    "from google.colab import files\n",
    "uploaded = files.upload()\n",
    "\n",
    "df = pd.read_csv(\"customer_data.csv\")\n",
    "df.head()"
   ]
  },
  {
   "cell_type": "code",
   "execution_count": null,
   "id": "4c98aea1",
   "metadata": {},
   "outputs": [],
   "source": [
    "# Filter High-Spending Customers\n",
    "high_spenders = df[df[\"Amount Spent\"] > 150]\n",
    "print(high_spenders)"
   ]
  },
  {
   "cell_type": "code",
   "execution_count": null,
   "id": "a8fcdddf",
   "metadata": {},
   "outputs": [],
   "source": [
    "# Sort Customers by Spending\n",
    "df_sorted = df.sort_values(by=\"Amount Spent\", ascending=False)\n",
    "print(df_sorted)"
   ]
  },
  {
   "cell_type": "code",
   "execution_count": null,
   "id": "26301069",
   "metadata": {},
   "outputs": [],
   "source": [
    "# Add Loyalty Points Column\n",
    "df[\"Loyalty Points\"] = df[\"Amount Spent\"] // 10\n",
    "print(df)"
   ]
  },
  {
   "cell_type": "code",
   "execution_count": null,
   "id": "9c32e5e0",
   "metadata": {},
   "outputs": [],
   "source": [
    "# Save processed data\n",
    "df.to_csv(\"cleaned_customer_data.csv\", index=False)\n",
    "files.download(\"cleaned_customer_data.csv\")"
   ]
  }
 ],
 "metadata": {},
 "nbformat": 4,
 "nbformat_minor": 5
}
